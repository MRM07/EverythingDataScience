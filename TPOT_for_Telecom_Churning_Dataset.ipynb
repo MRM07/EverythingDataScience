{
  "nbformat": 4,
  "nbformat_minor": 0,
  "metadata": {
    "colab": {
      "name": "TPOT for Telecom Churning Dataset.ipynb",
      "provenance": [],
      "collapsed_sections": [],
      "toc_visible": true,
      "include_colab_link": true
    },
    "kernelspec": {
      "name": "python3",
      "display_name": "Python 3"
    }
  },
  "cells": [
    {
      "cell_type": "markdown",
      "metadata": {
        "id": "view-in-github",
        "colab_type": "text"
      },
      "source": [
        "<a href=\"https://colab.research.google.com/github/MRM07/EverythingDataScience/blob/master/TPOT_for_Telecom_Churning_Dataset.ipynb\" target=\"_parent\"><img src=\"https://colab.research.google.com/assets/colab-badge.svg\" alt=\"Open In Colab\"/></a>"
      ]
    },
    {
      "cell_type": "markdown",
      "metadata": {
        "id": "M8yfQZYxZv1T",
        "colab_type": "text"
      },
      "source": [
        "## Predict the risk of Customer Churning in Telecom Data\n",
        "\n",
        "Churning occurs when customers/subscibers stop doing business with a company or service.\n",
        "Here we'll use TPOT to create an Automated ML platform to predict the churn risk.\n"
      ]
    },
    {
      "cell_type": "code",
      "metadata": {
        "id": "PvIzZNVIa_uD",
        "colab_type": "code",
        "colab": {}
      },
      "source": [
        "!pip install tpot"
      ],
      "execution_count": 0,
      "outputs": []
    },
    {
      "cell_type": "code",
      "metadata": {
        "id": "xXVKxVJkaC-F",
        "colab_type": "code",
        "colab": {}
      },
      "source": [
        "\n",
        "# Import required libraries\n",
        "from tpot import TPOTClassifier\n",
        "from sklearn.model_selection import train_test_split\n",
        "import pandas as pd \n",
        "import numpy as np"
      ],
      "execution_count": 0,
      "outputs": []
    },
    {
      "cell_type": "code",
      "metadata": {
        "id": "qi4qx7DnawJv",
        "colab_type": "code",
        "colab": {
          "base_uri": "https://localhost:8080/",
          "height": 309
        },
        "outputId": "2dd6f117-b8aa-4284-e688-d733aa6a591f"
      },
      "source": [
        "# Loading the data\n",
        "customer_churn_dataset = pd.read_csv('data2.csv')\n",
        "customer_churn_dataset.head(5)"
      ],
      "execution_count": 2,
      "outputs": [
        {
          "output_type": "execute_result",
          "data": {
            "text/html": [
              "<div>\n",
              "<style scoped>\n",
              "    .dataframe tbody tr th:only-of-type {\n",
              "        vertical-align: middle;\n",
              "    }\n",
              "\n",
              "    .dataframe tbody tr th {\n",
              "        vertical-align: top;\n",
              "    }\n",
              "\n",
              "    .dataframe thead th {\n",
              "        text-align: right;\n",
              "    }\n",
              "</style>\n",
              "<table border=\"1\" class=\"dataframe\">\n",
              "  <thead>\n",
              "    <tr style=\"text-align: right;\">\n",
              "      <th></th>\n",
              "      <th>customerID</th>\n",
              "      <th>gender</th>\n",
              "      <th>SeniorCitizen</th>\n",
              "      <th>Partner</th>\n",
              "      <th>Dependents</th>\n",
              "      <th>tenure</th>\n",
              "      <th>PhoneService</th>\n",
              "      <th>MultipleLines</th>\n",
              "      <th>InternetService</th>\n",
              "      <th>OnlineSecurity</th>\n",
              "      <th>OnlineBackup</th>\n",
              "      <th>DeviceProtection</th>\n",
              "      <th>TechSupport</th>\n",
              "      <th>StreamingTV</th>\n",
              "      <th>StreamingMovies</th>\n",
              "      <th>Contract</th>\n",
              "      <th>PaperlessBilling</th>\n",
              "      <th>PaymentMethod</th>\n",
              "      <th>MonthlyCharges</th>\n",
              "      <th>TotalCharges</th>\n",
              "      <th>Churn</th>\n",
              "    </tr>\n",
              "  </thead>\n",
              "  <tbody>\n",
              "    <tr>\n",
              "      <th>0</th>\n",
              "      <td>2967-MXRAV</td>\n",
              "      <td>Male</td>\n",
              "      <td>0</td>\n",
              "      <td>Yes</td>\n",
              "      <td>Yes</td>\n",
              "      <td>1</td>\n",
              "      <td>Yes</td>\n",
              "      <td>No</td>\n",
              "      <td>No</td>\n",
              "      <td>No internet service</td>\n",
              "      <td>No internet service</td>\n",
              "      <td>No internet service</td>\n",
              "      <td>No internet service</td>\n",
              "      <td>No internet service</td>\n",
              "      <td>No internet service</td>\n",
              "      <td>One year</td>\n",
              "      <td>No</td>\n",
              "      <td>Mailed check</td>\n",
              "      <td>18.80</td>\n",
              "      <td>18.80</td>\n",
              "      <td>No</td>\n",
              "    </tr>\n",
              "    <tr>\n",
              "      <th>1</th>\n",
              "      <td>8992-CEUEN</td>\n",
              "      <td>Female</td>\n",
              "      <td>0</td>\n",
              "      <td>No</td>\n",
              "      <td>No</td>\n",
              "      <td>1</td>\n",
              "      <td>Yes</td>\n",
              "      <td>No</td>\n",
              "      <td>No</td>\n",
              "      <td>No internet service</td>\n",
              "      <td>No internet service</td>\n",
              "      <td>No internet service</td>\n",
              "      <td>No internet service</td>\n",
              "      <td>No internet service</td>\n",
              "      <td>No internet service</td>\n",
              "      <td>Month-to-month</td>\n",
              "      <td>No</td>\n",
              "      <td>Electronic check</td>\n",
              "      <td>18.85</td>\n",
              "      <td>18.85</td>\n",
              "      <td>No</td>\n",
              "    </tr>\n",
              "    <tr>\n",
              "      <th>2</th>\n",
              "      <td>9318-NKNFC</td>\n",
              "      <td>Male</td>\n",
              "      <td>0</td>\n",
              "      <td>No</td>\n",
              "      <td>No</td>\n",
              "      <td>1</td>\n",
              "      <td>Yes</td>\n",
              "      <td>No</td>\n",
              "      <td>No</td>\n",
              "      <td>No internet service</td>\n",
              "      <td>No internet service</td>\n",
              "      <td>No internet service</td>\n",
              "      <td>No internet service</td>\n",
              "      <td>No internet service</td>\n",
              "      <td>No internet service</td>\n",
              "      <td>Month-to-month</td>\n",
              "      <td>Yes</td>\n",
              "      <td>Mailed check</td>\n",
              "      <td>18.85</td>\n",
              "      <td>18.85</td>\n",
              "      <td>Yes</td>\n",
              "    </tr>\n",
              "    <tr>\n",
              "      <th>3</th>\n",
              "      <td>9975-SKRNR</td>\n",
              "      <td>Male</td>\n",
              "      <td>0</td>\n",
              "      <td>No</td>\n",
              "      <td>No</td>\n",
              "      <td>1</td>\n",
              "      <td>Yes</td>\n",
              "      <td>No</td>\n",
              "      <td>No</td>\n",
              "      <td>No internet service</td>\n",
              "      <td>No internet service</td>\n",
              "      <td>No internet service</td>\n",
              "      <td>No internet service</td>\n",
              "      <td>No internet service</td>\n",
              "      <td>No internet service</td>\n",
              "      <td>Month-to-month</td>\n",
              "      <td>No</td>\n",
              "      <td>Mailed check</td>\n",
              "      <td>18.90</td>\n",
              "      <td>18.90</td>\n",
              "      <td>No</td>\n",
              "    </tr>\n",
              "    <tr>\n",
              "      <th>4</th>\n",
              "      <td>1423-BMPBQ</td>\n",
              "      <td>Female</td>\n",
              "      <td>0</td>\n",
              "      <td>Yes</td>\n",
              "      <td>Yes</td>\n",
              "      <td>1</td>\n",
              "      <td>Yes</td>\n",
              "      <td>No</td>\n",
              "      <td>No</td>\n",
              "      <td>No internet service</td>\n",
              "      <td>No internet service</td>\n",
              "      <td>No internet service</td>\n",
              "      <td>No internet service</td>\n",
              "      <td>No internet service</td>\n",
              "      <td>No internet service</td>\n",
              "      <td>Month-to-month</td>\n",
              "      <td>Yes</td>\n",
              "      <td>Mailed check</td>\n",
              "      <td>19.00</td>\n",
              "      <td>19.00</td>\n",
              "      <td>No</td>\n",
              "    </tr>\n",
              "  </tbody>\n",
              "</table>\n",
              "</div>"
            ],
            "text/plain": [
              "   customerID  gender  SeniorCitizen  ... MonthlyCharges TotalCharges  Churn\n",
              "0  2967-MXRAV    Male              0  ...          18.80        18.80     No\n",
              "1  8992-CEUEN  Female              0  ...          18.85        18.85     No\n",
              "2  9318-NKNFC    Male              0  ...          18.85        18.85    Yes\n",
              "3  9975-SKRNR    Male              0  ...          18.90        18.90     No\n",
              "4  1423-BMPBQ  Female              0  ...          19.00        19.00     No\n",
              "\n",
              "[5 rows x 21 columns]"
            ]
          },
          "metadata": {
            "tags": []
          },
          "execution_count": 2
        }
      ]
    },
    {
      "cell_type": "markdown",
      "metadata": {
        "id": "9OkmrxM8bPVL",
        "colab_type": "text"
      },
      "source": [
        "# EDA"
      ]
    },
    {
      "cell_type": "code",
      "metadata": {
        "id": "bVmlNTx3a9R0",
        "colab_type": "code",
        "colab": {
          "base_uri": "https://localhost:8080/",
          "height": 119
        },
        "outputId": "1648543a-f85b-4a7a-e066-345844a291dc"
      },
      "source": [
        "customer_churn_dataset.groupby(\"gender\").Churn.value_counts()"
      ],
      "execution_count": 3,
      "outputs": [
        {
          "output_type": "execute_result",
          "data": {
            "text/plain": [
              "gender  Churn\n",
              "Female  No       2544\n",
              "        Yes       939\n",
              "Male    No       2619\n",
              "        Yes       930\n",
              "Name: Churn, dtype: int64"
            ]
          },
          "metadata": {
            "tags": []
          },
          "execution_count": 3
        }
      ]
    },
    {
      "cell_type": "code",
      "metadata": {
        "id": "gCOUiVobb78H",
        "colab_type": "code",
        "colab": {
          "base_uri": "https://localhost:8080/",
          "height": 391
        },
        "outputId": "c7bac16a-8dd2-4ff9-b564-e8e68f8d9382"
      },
      "source": [
        "#Dataypes of all the individual features\n",
        "customer_churn_dataset.dtypes"
      ],
      "execution_count": 4,
      "outputs": [
        {
          "output_type": "execute_result",
          "data": {
            "text/plain": [
              "customerID           object\n",
              "gender               object\n",
              "SeniorCitizen         int64\n",
              "Partner              object\n",
              "Dependents           object\n",
              "tenure                int64\n",
              "PhoneService         object\n",
              "MultipleLines        object\n",
              "InternetService      object\n",
              "OnlineSecurity       object\n",
              "OnlineBackup         object\n",
              "DeviceProtection     object\n",
              "TechSupport          object\n",
              "StreamingTV          object\n",
              "StreamingMovies      object\n",
              "Contract             object\n",
              "PaperlessBilling     object\n",
              "PaymentMethod        object\n",
              "MonthlyCharges      float64\n",
              "TotalCharges        float64\n",
              "Churn                object\n",
              "dtype: object"
            ]
          },
          "metadata": {
            "tags": []
          },
          "execution_count": 4
        }
      ]
    },
    {
      "cell_type": "code",
      "metadata": {
        "id": "AbmS600KcBGC",
        "colab_type": "code",
        "colab": {
          "base_uri": "https://localhost:8080/",
          "height": 391
        },
        "outputId": "7202026f-6309-494a-a922-4d43335df632"
      },
      "source": [
        "#Let's check for null values in the dataset\n",
        "customer_churn_dataset.isnull().sum()"
      ],
      "execution_count": 5,
      "outputs": [
        {
          "output_type": "execute_result",
          "data": {
            "text/plain": [
              "customerID          0\n",
              "gender              0\n",
              "SeniorCitizen       0\n",
              "Partner             0\n",
              "Dependents          0\n",
              "tenure              0\n",
              "PhoneService        0\n",
              "MultipleLines       0\n",
              "InternetService     0\n",
              "OnlineSecurity      0\n",
              "OnlineBackup        0\n",
              "DeviceProtection    0\n",
              "TechSupport         0\n",
              "StreamingTV         0\n",
              "StreamingMovies     0\n",
              "Contract            0\n",
              "PaperlessBilling    0\n",
              "PaymentMethod       0\n",
              "MonthlyCharges      0\n",
              "TotalCharges        0\n",
              "Churn               0\n",
              "dtype: int64"
            ]
          },
          "metadata": {
            "tags": []
          },
          "execution_count": 5
        }
      ]
    },
    {
      "cell_type": "markdown",
      "metadata": {
        "id": "44L5a-T1cizd",
        "colab_type": "text"
      },
      "source": [
        "# Data Wrangling\n",
        "\n",
        "The first and most important step in using TPOT on any data set is to rename the target class/response variable to class."
      ]
    },
    {
      "cell_type": "code",
      "metadata": {
        "id": "-veNEMVFcUZt",
        "colab_type": "code",
        "colab": {}
      },
      "source": [
        "\"\"\"\n",
        "Let's create a funcion which can be used to identify the reponse variable based on user input. \n",
        "Here \"Churn\" prediction is the requirement.\n",
        "\"\"\"\n",
        "def target(df, response ):\n",
        "  df.rename(columns={response: 'class'}, inplace=True)\n",
        "  "
      ],
      "execution_count": 0,
      "outputs": []
    },
    {
      "cell_type": "code",
      "metadata": {
        "id": "xnXWrDs1dZyG",
        "colab_type": "code",
        "colab": {}
      },
      "source": [
        "target(customer_churn_dataset, \"Churn\")\n"
      ],
      "execution_count": 0,
      "outputs": []
    },
    {
      "cell_type": "markdown",
      "metadata": {
        "id": "4wHXeQ1fdmRM",
        "colab_type": "text"
      },
      "source": [
        "\n",
        "At present, TPOT requires all the data to be in numerical format. As we can see below, our data set has many categorical variables which contain non-numerical values: **gender, PhoneService, Multiple lines, Partner, Dependent, PaymentMethod, Paperless, TechSupport, StreamingTV, StreamingMovies, Contract etc.**"
      ]
    },
    {
      "cell_type": "code",
      "metadata": {
        "id": "h7el2AKVhVAO",
        "colab_type": "code",
        "colab": {
          "base_uri": "https://localhost:8080/",
          "height": 272
        },
        "outputId": "31e55a97-32a5-4ad3-e316-391b7f96d3eb"
      },
      "source": [
        "for cat in ['gender', 'Partner', 'Dependents', 'PhoneService', 'MultipleLines', 'InternetService', 'OnlineSecurity', 'OnlineBackup', 'DeviceProtection', 'TechSupport', 'StreamingMovies', 'StreamingTV', 'Contract', 'PaperlessBilling', 'PaymentMethod' ]:\n",
        "    print(\"Number of levels in category '{0}': \\b {1:2.2f} \".format(cat, customer_churn_dataset[cat].unique().size))"
      ],
      "execution_count": 8,
      "outputs": [
        {
          "output_type": "stream",
          "text": [
            "Number of levels in category 'gender': \b 2.00 \n",
            "Number of levels in category 'Partner': \b 2.00 \n",
            "Number of levels in category 'Dependents': \b 2.00 \n",
            "Number of levels in category 'PhoneService': \b 2.00 \n",
            "Number of levels in category 'MultipleLines': \b 3.00 \n",
            "Number of levels in category 'InternetService': \b 3.00 \n",
            "Number of levels in category 'OnlineSecurity': \b 3.00 \n",
            "Number of levels in category 'OnlineBackup': \b 3.00 \n",
            "Number of levels in category 'DeviceProtection': \b 3.00 \n",
            "Number of levels in category 'TechSupport': \b 3.00 \n",
            "Number of levels in category 'StreamingMovies': \b 3.00 \n",
            "Number of levels in category 'StreamingTV': \b 3.00 \n",
            "Number of levels in category 'Contract': \b 3.00 \n",
            "Number of levels in category 'PaperlessBilling': \b 2.00 \n",
            "Number of levels in category 'PaymentMethod': \b 4.00 \n"
          ],
          "name": "stdout"
        }
      ]
    },
    {
      "cell_type": "code",
      "metadata": {
        "id": "jlf9SrFxi027",
        "colab_type": "code",
        "colab": {
          "base_uri": "https://localhost:8080/",
          "height": 289
        },
        "outputId": "6e8e5056-c06a-449a-ae45-72d9cfb8fcfd"
      },
      "source": [
        "for cat in ['gender', 'Partner', 'Dependents', 'PhoneService', 'MultipleLines', 'InternetService', 'OnlineSecurity', 'OnlineBackup', 'DeviceProtection', 'TechSupport', 'StreamingMovies', 'StreamingTV', 'Contract', 'PaperlessBilling', 'PaymentMethod' ]:\n",
        "    print(\"Number of levels in category '{0}': {1} \".format(cat, customer_churn_dataset[cat].unique()))"
      ],
      "execution_count": 9,
      "outputs": [
        {
          "output_type": "stream",
          "text": [
            "Number of levels in category 'gender': ['Male' 'Female'] \n",
            "Number of levels in category 'Partner': ['Yes' 'No'] \n",
            "Number of levels in category 'Dependents': ['Yes' 'No'] \n",
            "Number of levels in category 'PhoneService': ['Yes' 'No'] \n",
            "Number of levels in category 'MultipleLines': ['No' 'No phone service' 'Yes'] \n",
            "Number of levels in category 'InternetService': ['No' 'DSL' 'Fiber optic'] \n",
            "Number of levels in category 'OnlineSecurity': ['No internet service' 'No' 'Yes'] \n",
            "Number of levels in category 'OnlineBackup': ['No internet service' 'No' 'Yes'] \n",
            "Number of levels in category 'DeviceProtection': ['No internet service' 'No' 'Yes'] \n",
            "Number of levels in category 'TechSupport': ['No internet service' 'No' 'Yes'] \n",
            "Number of levels in category 'StreamingMovies': ['No internet service' 'No' 'Yes'] \n",
            "Number of levels in category 'StreamingTV': ['No internet service' 'No' 'Yes'] \n",
            "Number of levels in category 'Contract': ['One year' 'Month-to-month' 'Two year'] \n",
            "Number of levels in category 'PaperlessBilling': ['No' 'Yes'] \n",
            "Number of levels in category 'PaymentMethod': ['Mailed check' 'Electronic check' 'Bank transfer (automatic)'\n",
            " 'Credit card (automatic)'] \n"
          ],
          "name": "stdout"
        }
      ]
    },
    {
      "cell_type": "code",
      "metadata": {
        "id": "xeHfyRyljb36",
        "colab_type": "code",
        "colab": {}
      },
      "source": [
        "customer_churn_dataset[\"gender\"]=customer_churn_dataset[\"gender\"].map({'Male': 0, 'Female': 1}) \n",
        "customer_churn_dataset[\"Partner\"]= customer_churn_dataset[\"Partner\"].map({'Yes': 0, 'No': 1})\n",
        "customer_churn_dataset[\"Dependents\"]= customer_churn_dataset[\"Dependents\"].map({'Yes': 0, 'No': 1})\n",
        "customer_churn_dataset[\"PhoneService\"]= customer_churn_dataset[\"PhoneService\"].map({'Yes': 0, 'No': 1})\n",
        "customer_churn_dataset[\"MultipleLines\"]= customer_churn_dataset[\"MultipleLines\"].map({'No': 0, 'No phone service': 1, 'Yes': 2})\n",
        "customer_churn_dataset[\"InternetService\"]= customer_churn_dataset[\"InternetService\"].map({'No': 0, 'DSL': 1, 'Fiber optic': 2 })\n",
        "customer_churn_dataset[\"OnlineSecurity\"]= customer_churn_dataset[\"OnlineSecurity\"].map({'No internet service': 0, 'No': 1, 'Yes': 2})\n",
        "customer_churn_dataset[\"OnlineBackup\"]= customer_churn_dataset[\"OnlineBackup\"].map({'No internet service': 0, 'No': 1, 'Yes': 2})\n",
        "customer_churn_dataset[\"DeviceProtection\"]= customer_churn_dataset[\"DeviceProtection\"].map({'No internet service': 0, 'No': 1, 'Yes': 2})\n",
        "customer_churn_dataset[\"TechSupport\"]= customer_churn_dataset[\"TechSupport\"].map({'No internet service': 0, 'No': 1, 'Yes': 2})\n",
        "customer_churn_dataset[\"StreamingMovies\"]= customer_churn_dataset[\"StreamingMovies\"].map({'No internet service': 0, 'No': 1, 'Yes': 2})\n",
        "customer_churn_dataset[\"StreamingTV\"]= customer_churn_dataset[\"StreamingTV\"].map({'No internet service': 0, 'No': 1, 'Yes': 2})\n",
        "customer_churn_dataset[\"Contract\"]= customer_churn_dataset[\"Contract\"].map({'One year': 0, 'Month-to-month': 1, 'Two year': 2})\n",
        "customer_churn_dataset[\"PaymentMethod\"]= customer_churn_dataset[\"PaymentMethod\"].map({'Mailed check':0, 'Electronic check' :1 ,'Bank transfer (automatic)':2, \n",
        " 'Credit card (automatic)': 3})\n",
        "customer_churn_dataset[\"PaperlessBilling\"]= customer_churn_dataset[\"PaperlessBilling\"].map({'No' :0, 'Yes': 1})\n"
      ],
      "execution_count": 0,
      "outputs": []
    },
    {
      "cell_type": "code",
      "metadata": {
        "id": "t186XF-lmgpb",
        "colab_type": "code",
        "colab": {
          "base_uri": "https://localhost:8080/",
          "height": 309
        },
        "outputId": "4855a2cb-7b0f-4809-f11f-36120fc15fe5"
      },
      "source": [
        "# customer_churn_dataset[\"gender\"]=customer_churn_dataset[\"gender\"].map({'Male': 0, 'Female': 1})\n",
        "customer_churn_dataset.head()"
      ],
      "execution_count": 11,
      "outputs": [
        {
          "output_type": "execute_result",
          "data": {
            "text/html": [
              "<div>\n",
              "<style scoped>\n",
              "    .dataframe tbody tr th:only-of-type {\n",
              "        vertical-align: middle;\n",
              "    }\n",
              "\n",
              "    .dataframe tbody tr th {\n",
              "        vertical-align: top;\n",
              "    }\n",
              "\n",
              "    .dataframe thead th {\n",
              "        text-align: right;\n",
              "    }\n",
              "</style>\n",
              "<table border=\"1\" class=\"dataframe\">\n",
              "  <thead>\n",
              "    <tr style=\"text-align: right;\">\n",
              "      <th></th>\n",
              "      <th>customerID</th>\n",
              "      <th>gender</th>\n",
              "      <th>SeniorCitizen</th>\n",
              "      <th>Partner</th>\n",
              "      <th>Dependents</th>\n",
              "      <th>tenure</th>\n",
              "      <th>PhoneService</th>\n",
              "      <th>MultipleLines</th>\n",
              "      <th>InternetService</th>\n",
              "      <th>OnlineSecurity</th>\n",
              "      <th>OnlineBackup</th>\n",
              "      <th>DeviceProtection</th>\n",
              "      <th>TechSupport</th>\n",
              "      <th>StreamingTV</th>\n",
              "      <th>StreamingMovies</th>\n",
              "      <th>Contract</th>\n",
              "      <th>PaperlessBilling</th>\n",
              "      <th>PaymentMethod</th>\n",
              "      <th>MonthlyCharges</th>\n",
              "      <th>TotalCharges</th>\n",
              "      <th>class</th>\n",
              "    </tr>\n",
              "  </thead>\n",
              "  <tbody>\n",
              "    <tr>\n",
              "      <th>0</th>\n",
              "      <td>2967-MXRAV</td>\n",
              "      <td>0</td>\n",
              "      <td>0</td>\n",
              "      <td>0</td>\n",
              "      <td>0</td>\n",
              "      <td>1</td>\n",
              "      <td>0</td>\n",
              "      <td>0</td>\n",
              "      <td>0</td>\n",
              "      <td>0</td>\n",
              "      <td>0</td>\n",
              "      <td>0</td>\n",
              "      <td>0</td>\n",
              "      <td>0</td>\n",
              "      <td>0</td>\n",
              "      <td>0</td>\n",
              "      <td>0</td>\n",
              "      <td>0</td>\n",
              "      <td>18.80</td>\n",
              "      <td>18.80</td>\n",
              "      <td>No</td>\n",
              "    </tr>\n",
              "    <tr>\n",
              "      <th>1</th>\n",
              "      <td>8992-CEUEN</td>\n",
              "      <td>1</td>\n",
              "      <td>0</td>\n",
              "      <td>1</td>\n",
              "      <td>1</td>\n",
              "      <td>1</td>\n",
              "      <td>0</td>\n",
              "      <td>0</td>\n",
              "      <td>0</td>\n",
              "      <td>0</td>\n",
              "      <td>0</td>\n",
              "      <td>0</td>\n",
              "      <td>0</td>\n",
              "      <td>0</td>\n",
              "      <td>0</td>\n",
              "      <td>1</td>\n",
              "      <td>0</td>\n",
              "      <td>1</td>\n",
              "      <td>18.85</td>\n",
              "      <td>18.85</td>\n",
              "      <td>No</td>\n",
              "    </tr>\n",
              "    <tr>\n",
              "      <th>2</th>\n",
              "      <td>9318-NKNFC</td>\n",
              "      <td>0</td>\n",
              "      <td>0</td>\n",
              "      <td>1</td>\n",
              "      <td>1</td>\n",
              "      <td>1</td>\n",
              "      <td>0</td>\n",
              "      <td>0</td>\n",
              "      <td>0</td>\n",
              "      <td>0</td>\n",
              "      <td>0</td>\n",
              "      <td>0</td>\n",
              "      <td>0</td>\n",
              "      <td>0</td>\n",
              "      <td>0</td>\n",
              "      <td>1</td>\n",
              "      <td>1</td>\n",
              "      <td>0</td>\n",
              "      <td>18.85</td>\n",
              "      <td>18.85</td>\n",
              "      <td>Yes</td>\n",
              "    </tr>\n",
              "    <tr>\n",
              "      <th>3</th>\n",
              "      <td>9975-SKRNR</td>\n",
              "      <td>0</td>\n",
              "      <td>0</td>\n",
              "      <td>1</td>\n",
              "      <td>1</td>\n",
              "      <td>1</td>\n",
              "      <td>0</td>\n",
              "      <td>0</td>\n",
              "      <td>0</td>\n",
              "      <td>0</td>\n",
              "      <td>0</td>\n",
              "      <td>0</td>\n",
              "      <td>0</td>\n",
              "      <td>0</td>\n",
              "      <td>0</td>\n",
              "      <td>1</td>\n",
              "      <td>0</td>\n",
              "      <td>0</td>\n",
              "      <td>18.90</td>\n",
              "      <td>18.90</td>\n",
              "      <td>No</td>\n",
              "    </tr>\n",
              "    <tr>\n",
              "      <th>4</th>\n",
              "      <td>1423-BMPBQ</td>\n",
              "      <td>1</td>\n",
              "      <td>0</td>\n",
              "      <td>0</td>\n",
              "      <td>0</td>\n",
              "      <td>1</td>\n",
              "      <td>0</td>\n",
              "      <td>0</td>\n",
              "      <td>0</td>\n",
              "      <td>0</td>\n",
              "      <td>0</td>\n",
              "      <td>0</td>\n",
              "      <td>0</td>\n",
              "      <td>0</td>\n",
              "      <td>0</td>\n",
              "      <td>1</td>\n",
              "      <td>1</td>\n",
              "      <td>0</td>\n",
              "      <td>19.00</td>\n",
              "      <td>19.00</td>\n",
              "      <td>No</td>\n",
              "    </tr>\n",
              "  </tbody>\n",
              "</table>\n",
              "</div>"
            ],
            "text/plain": [
              "   customerID  gender  SeniorCitizen  ...  MonthlyCharges  TotalCharges  class\n",
              "0  2967-MXRAV       0              0  ...           18.80         18.80     No\n",
              "1  8992-CEUEN       1              0  ...           18.85         18.85     No\n",
              "2  9318-NKNFC       0              0  ...           18.85         18.85    Yes\n",
              "3  9975-SKRNR       0              0  ...           18.90         18.90     No\n",
              "4  1423-BMPBQ       1              0  ...           19.00         19.00     No\n",
              "\n",
              "[5 rows x 21 columns]"
            ]
          },
          "metadata": {
            "tags": []
          },
          "execution_count": 11
        }
      ]
    },
    {
      "cell_type": "code",
      "metadata": {
        "id": "FnY3eSfe2k0u",
        "colab_type": "code",
        "colab": {}
      },
      "source": [
        "from sklearn.model_selection import train_test_split\n",
        "X= customer_churn_dataset.drop(['customerID', 'class'], axis= 1)\n",
        "y= customer_churn_dataset[\"class\"]\n",
        "X_train, X_test, y_train, y_test = train_test_split(X, y, test_size= 0.20)"
      ],
      "execution_count": 0,
      "outputs": []
    },
    {
      "cell_type": "code",
      "metadata": {
        "id": "CPOG-KQk2k7y",
        "colab_type": "code",
        "colab": {}
      },
      "source": [
        "from tpot import TPOTClassifier"
      ],
      "execution_count": 0,
      "outputs": []
    },
    {
      "cell_type": "code",
      "metadata": {
        "id": "BvTyfcjANK2G",
        "colab_type": "code",
        "colab": {}
      },
      "source": [
        "\"\"\"\n",
        "We have the freedom to set up our won configuration even when automating the pipelines. \n",
        "This will help us narrow down to using only those pipelines which can explain feature importances.\n",
        "\"\"\"\n",
        "tpot_config = {\n",
        "    'sklearn.naive_bayes.GaussianNB': {\n",
        "    },\n",
        "    'sklearn.ensemble.RandomForestClassifier' : {\n",
        "    },\n",
        "    'sklearn.ensemble.GradientBoostingClassifier':{\n",
        "    },\n",
        "    \n",
        "    'sklearn.ensemble.ExtraTreesClassifier':{\n",
        "    }\n",
        "}\n"
      ],
      "execution_count": 0,
      "outputs": []
    },
    {
      "cell_type": "code",
      "metadata": {
        "id": "-9PWOSVD2lBL",
        "colab_type": "code",
        "colab": {}
      },
      "source": [
        "tpot = TPOTClassifier(generations= 20, verbosity=2, max_time_mins=4, max_eval_time_mins=0.04, population_size=20, config_dict= tpot_config)"
      ],
      "execution_count": 0,
      "outputs": []
    },
    {
      "cell_type": "code",
      "metadata": {
        "id": "DxR7CPL92lHJ",
        "colab_type": "code",
        "colab": {
          "base_uri": "https://localhost:8080/",
          "height": 1000
        },
        "outputId": "16df4805-9100-4cf9-8f15-d368834239a2"
      },
      "source": [
        "tpot.fit(X_train, y_train)\n",
        "print(tpot.score(X_test, y_test))"
      ],
      "execution_count": 24,
      "outputs": [
        {
          "output_type": "display_data",
          "data": {
            "application/vnd.jupyter.widget-view+json": {
              "model_id": "78a6a291b33840babe0a89988afe0d5b",
              "version_minor": 0,
              "version_major": 2
            },
            "text/plain": [
              "HBox(children=(IntProgress(value=0, description='Optimization Progress', max=20, style=ProgressStyle(descripti…"
            ]
          },
          "metadata": {
            "tags": []
          }
        },
        {
          "output_type": "stream",
          "text": [
            "Generation 1 - Current best internal CV score: 0.7850666666666668\n",
            "Generation 2 - Current best internal CV score: 0.7873777777777777\n",
            "Generation 3 - Current best internal CV score: 0.7873777777777777\n",
            "Generation 4 - Current best internal CV score: 0.7873777777777777\n",
            "Generation 5 - Current best internal CV score: 0.7873777777777777\n",
            "Generation 6 - Current best internal CV score: 0.7873777777777777\n",
            "Generation 7 - Current best internal CV score: 0.7873777777777777\n",
            "Generation 8 - Current best internal CV score: 0.7873777777777777\n",
            "Generation 9 - Current best internal CV score: 0.7873777777777777\n",
            "Generation 10 - Current best internal CV score: 0.7873777777777777\n",
            "Generation 11 - Current best internal CV score: 0.7873777777777777\n",
            "Generation 12 - Current best internal CV score: 0.7873777777777777\n",
            "Generation 13 - Current best internal CV score: 0.7873777777777777\n",
            "Generation 14 - Current best internal CV score: 0.7873777777777777\n",
            "Generation 15 - Current best internal CV score: 0.7873777777777777\n",
            "Generation 16 - Current best internal CV score: 0.7873777777777777\n",
            "Generation 17 - Current best internal CV score: 0.7873777777777777\n",
            "Generation 18 - Current best internal CV score: 0.7873777777777777\n",
            "Generation 19 - Current best internal CV score: 0.7873777777777777\n",
            "Generation 20 - Current best internal CV score: 0.7873777777777777\n",
            "Generation 21 - Current best internal CV score: 0.7873777777777777\n",
            "Generation 22 - Current best internal CV score: 0.7873777777777777\n",
            "Generation 23 - Current best internal CV score: 0.7873777777777777\n",
            "Generation 24 - Current best internal CV score: 0.7873777777777777\n",
            "Generation 25 - Current best internal CV score: 0.7873777777777777\n",
            "Generation 26 - Current best internal CV score: 0.7873777777777777\n",
            "Generation 27 - Current best internal CV score: 0.7873777777777777\n",
            "Generation 28 - Current best internal CV score: 0.7873777777777777\n",
            "Generation 29 - Current best internal CV score: 0.7873777777777777\n",
            "Generation 30 - Current best internal CV score: 0.7873777777777777\n",
            "Generation 31 - Current best internal CV score: 0.7873777777777777\n",
            "Generation 32 - Current best internal CV score: 0.7873777777777777\n",
            "Generation 33 - Current best internal CV score: 0.7873777777777777\n",
            "Generation 34 - Current best internal CV score: 0.7873777777777777\n",
            "Generation 35 - Current best internal CV score: 0.7873777777777777\n",
            "Generation 36 - Current best internal CV score: 0.7873777777777777\n",
            "Generation 37 - Current best internal CV score: 0.7873777777777777\n",
            "Generation 38 - Current best internal CV score: 0.7873777777777777\n",
            "Generation 39 - Current best internal CV score: 0.7873777777777777\n",
            "Generation 40 - Current best internal CV score: 0.7873777777777777\n",
            "Generation 41 - Current best internal CV score: 0.7873777777777777\n",
            "Generation 42 - Current best internal CV score: 0.7873777777777777\n",
            "Generation 43 - Current best internal CV score: 0.7873777777777777\n",
            "Generation 44 - Current best internal CV score: 0.7873777777777777\n",
            "Generation 45 - Current best internal CV score: 0.7873777777777777\n",
            "Generation 46 - Current best internal CV score: 0.7873777777777777\n",
            "Generation 47 - Current best internal CV score: 0.7873777777777777\n",
            "Generation 48 - Current best internal CV score: 0.7873777777777777\n",
            "Generation 49 - Current best internal CV score: 0.7873777777777777\n",
            "Generation 50 - Current best internal CV score: 0.7873777777777777\n",
            "Generation 51 - Current best internal CV score: 0.7873777777777777\n",
            "Generation 52 - Current best internal CV score: 0.7873777777777777\n",
            "Generation 53 - Current best internal CV score: 0.7873777777777777\n",
            "Generation 54 - Current best internal CV score: 0.7873777777777777\n",
            "Generation 55 - Current best internal CV score: 0.7873777777777777\n",
            "Generation 56 - Current best internal CV score: 0.7873777777777777\n",
            "Generation 57 - Current best internal CV score: 0.7873777777777777\n",
            "Generation 58 - Current best internal CV score: 0.7873777777777777\n",
            "Generation 59 - Current best internal CV score: 0.7873777777777777\n",
            "Generation 60 - Current best internal CV score: 0.7873777777777777\n",
            "Generation 61 - Current best internal CV score: 0.7873777777777777\n",
            "Generation 62 - Current best internal CV score: 0.7873777777777777\n",
            "Generation 63 - Current best internal CV score: 0.7873777777777777\n",
            "Generation 64 - Current best internal CV score: 0.7873777777777777\n",
            "Generation 65 - Current best internal CV score: 0.7873777777777777\n",
            "Generation 66 - Current best internal CV score: 0.7873777777777777\n",
            "Generation 67 - Current best internal CV score: 0.7873777777777777\n",
            "Generation 68 - Current best internal CV score: 0.7873777777777777\n",
            "Generation 69 - Current best internal CV score: 0.7873777777777777\n",
            "Generation 70 - Current best internal CV score: 0.7873777777777777\n",
            "Generation 71 - Current best internal CV score: 0.7873777777777777\n",
            "Generation 72 - Current best internal CV score: 0.7873777777777777\n",
            "Generation 73 - Current best internal CV score: 0.7873777777777777\n",
            "Generation 74 - Current best internal CV score: 0.7873777777777777\n",
            "Generation 75 - Current best internal CV score: 0.7873777777777777\n",
            "Generation 76 - Current best internal CV score: 0.7873777777777777\n",
            "Generation 77 - Current best internal CV score: 0.7873777777777777\n",
            "Generation 78 - Current best internal CV score: 0.7873777777777777\n",
            "Generation 79 - Current best internal CV score: 0.7873777777777777\n",
            "Generation 80 - Current best internal CV score: 0.7873777777777777\n",
            "Generation 81 - Current best internal CV score: 0.7873777777777777\n",
            "Generation 82 - Current best internal CV score: 0.7873777777777777\n",
            "Generation 83 - Current best internal CV score: 0.7873777777777777\n",
            "Generation 84 - Current best internal CV score: 0.7873777777777777\n",
            "Generation 85 - Current best internal CV score: 0.7873777777777777\n",
            "Generation 86 - Current best internal CV score: 0.7873777777777777\n",
            "Generation 87 - Current best internal CV score: 0.7873777777777777\n",
            "Generation 88 - Current best internal CV score: 0.7873777777777777\n",
            "Generation 89 - Current best internal CV score: 0.7873777777777777\n",
            "Generation 90 - Current best internal CV score: 0.7873777777777777\n",
            "Generation 91 - Current best internal CV score: 0.7873777777777777\n",
            "Generation 92 - Current best internal CV score: 0.7873777777777777\n",
            "Generation 93 - Current best internal CV score: 0.7873777777777777\n",
            "Generation 94 - Current best internal CV score: 0.7873777777777777\n",
            "Generation 95 - Current best internal CV score: 0.7873777777777777\n",
            "Generation 96 - Current best internal CV score: 0.7873777777777777\n",
            "Generation 97 - Current best internal CV score: 0.7873777777777777\n",
            "Generation 98 - Current best internal CV score: 0.7873777777777777\n",
            "Generation 99 - Current best internal CV score: 0.7873777777777777\n",
            "Generation 100 - Current best internal CV score: 0.7873777777777777\n",
            "Generation 101 - Current best internal CV score: 0.7873777777777777\n",
            "Generation 102 - Current best internal CV score: 0.7873777777777777\n",
            "Generation 103 - Current best internal CV score: 0.7873777777777777\n",
            "Generation 104 - Current best internal CV score: 0.7873777777777777\n",
            "Generation 105 - Current best internal CV score: 0.7873777777777777\n",
            "Generation 106 - Current best internal CV score: 0.7873777777777777\n",
            "Generation 107 - Current best internal CV score: 0.7873777777777777\n",
            "Generation 108 - Current best internal CV score: 0.7873777777777777\n",
            "Generation 109 - Current best internal CV score: 0.7873777777777777\n",
            "Generation 110 - Current best internal CV score: 0.7873777777777777\n",
            "Generation 111 - Current best internal CV score: 0.7873777777777777\n",
            "Generation 112 - Current best internal CV score: 0.7873777777777777\n",
            "Generation 113 - Current best internal CV score: 0.7873777777777777\n",
            "Generation 114 - Current best internal CV score: 0.7873777777777777\n",
            "Generation 115 - Current best internal CV score: 0.7873777777777777\n",
            "Generation 116 - Current best internal CV score: 0.7873777777777777\n",
            "Generation 117 - Current best internal CV score: 0.7873777777777777\n",
            "Generation 118 - Current best internal CV score: 0.7873777777777777\n",
            "Generation 119 - Current best internal CV score: 0.7873777777777777\n",
            "Generation 120 - Current best internal CV score: 0.7873777777777777\n",
            "Generation 121 - Current best internal CV score: 0.7873777777777777\n",
            "Generation 122 - Current best internal CV score: 0.7873777777777777\n",
            "Generation 123 - Current best internal CV score: 0.7873777777777777\n",
            "Generation 124 - Current best internal CV score: 0.7873777777777777\n",
            "Generation 125 - Current best internal CV score: 0.7873777777777777\n",
            "Generation 126 - Current best internal CV score: 0.7873777777777777\n",
            "Generation 127 - Current best internal CV score: 0.7873777777777777\n",
            "Generation 128 - Current best internal CV score: 0.7873777777777777\n",
            "Generation 129 - Current best internal CV score: 0.7873777777777777\n",
            "Generation 130 - Current best internal CV score: 0.7873777777777777\n",
            "Generation 131 - Current best internal CV score: 0.7873777777777777\n",
            "Generation 132 - Current best internal CV score: 0.7873777777777777\n",
            "Generation 133 - Current best internal CV score: 0.7873777777777777\n",
            "Generation 134 - Current best internal CV score: 0.7873777777777777\n",
            "Generation 135 - Current best internal CV score: 0.7873777777777777\n",
            "Generation 136 - Current best internal CV score: 0.7873777777777777\n",
            "Generation 137 - Current best internal CV score: 0.7873777777777777\n",
            "Generation 138 - Current best internal CV score: 0.7873777777777777\n",
            "Generation 139 - Current best internal CV score: 0.7873777777777777\n",
            "Generation 140 - Current best internal CV score: 0.7873777777777777\n",
            "Generation 141 - Current best internal CV score: 0.7873777777777777\n",
            "Generation 142 - Current best internal CV score: 0.7873777777777777\n",
            "Generation 143 - Current best internal CV score: 0.7873777777777777\n",
            "Generation 144 - Current best internal CV score: 0.7873777777777777\n",
            "Generation 145 - Current best internal CV score: 0.7873777777777777\n",
            "Generation 146 - Current best internal CV score: 0.7873777777777777\n",
            "Generation 147 - Current best internal CV score: 0.7873777777777777\n",
            "Generation 148 - Current best internal CV score: 0.7873777777777777\n",
            "Generation 149 - Current best internal CV score: 0.7873777777777777\n",
            "Generation 150 - Current best internal CV score: 0.7873777777777777\n",
            "Generation 151 - Current best internal CV score: 0.7873777777777777\n",
            "Generation 152 - Current best internal CV score: 0.7873777777777777\n",
            "Generation 153 - Current best internal CV score: 0.7873777777777777\n",
            "Generation 154 - Current best internal CV score: 0.7873777777777777\n",
            "Generation 155 - Current best internal CV score: 0.7873777777777777\n",
            "Generation 156 - Current best internal CV score: 0.7873777777777777\n",
            "Generation 157 - Current best internal CV score: 0.7873777777777777\n",
            "Generation 158 - Current best internal CV score: 0.7873777777777777\n",
            "Generation 159 - Current best internal CV score: 0.7873777777777777\n",
            "Generation 160 - Current best internal CV score: 0.7873777777777777\n",
            "Generation 161 - Current best internal CV score: 0.7873777777777777\n",
            "Generation 162 - Current best internal CV score: 0.7873777777777777\n",
            "Generation 163 - Current best internal CV score: 0.7873777777777777\n",
            "Generation 164 - Current best internal CV score: 0.7873777777777777\n",
            "Generation 165 - Current best internal CV score: 0.7873777777777777\n",
            "Generation 166 - Current best internal CV score: 0.7873777777777777\n",
            "Generation 167 - Current best internal CV score: 0.7873777777777777\n",
            "Generation 168 - Current best internal CV score: 0.7873777777777777\n",
            "Generation 169 - Current best internal CV score: 0.7873777777777777\n",
            "Generation 170 - Current best internal CV score: 0.7873777777777777\n",
            "Generation 171 - Current best internal CV score: 0.7873777777777777\n",
            "Generation 172 - Current best internal CV score: 0.7873777777777777\n",
            "Generation 173 - Current best internal CV score: 0.7873777777777777\n",
            "Generation 174 - Current best internal CV score: 0.7873777777777777\n",
            "Generation 175 - Current best internal CV score: 0.7873777777777777\n",
            "Generation 176 - Current best internal CV score: 0.7873777777777777\n",
            "Generation 177 - Current best internal CV score: 0.7873777777777777\n",
            "Generation 178 - Current best internal CV score: 0.7873777777777777\n",
            "Generation 179 - Current best internal CV score: 0.7873777777777777\n",
            "Generation 180 - Current best internal CV score: 0.7873777777777777\n",
            "Generation 181 - Current best internal CV score: 0.7873777777777777\n",
            "Generation 182 - Current best internal CV score: 0.7873777777777777\n",
            "Generation 183 - Current best internal CV score: 0.7873777777777777\n",
            "Generation 184 - Current best internal CV score: 0.7873777777777777\n",
            "Generation 185 - Current best internal CV score: 0.7873777777777777\n",
            "Generation 186 - Current best internal CV score: 0.7873777777777777\n",
            "Generation 187 - Current best internal CV score: 0.7873777777777777\n",
            "Generation 188 - Current best internal CV score: 0.7873777777777777\n",
            "Generation 189 - Current best internal CV score: 0.7873777777777777\n",
            "Generation 190 - Current best internal CV score: 0.7873777777777777\n",
            "Generation 191 - Current best internal CV score: 0.7873777777777777\n",
            "Generation 192 - Current best internal CV score: 0.7873777777777777\n",
            "Generation 193 - Current best internal CV score: 0.7873777777777777\n",
            "Generation 194 - Current best internal CV score: 0.7873777777777777\n",
            "\n",
            "4.6069217 minutes have elapsed. TPOT will close down.\n",
            "TPOT closed during evaluation in one generation.\n",
            "WARNING: TPOT may not provide a good pipeline if TPOT is stopped/interrupted in a early generation.\n",
            "\n",
            "\n",
            "TPOT closed prematurely. Will use the current best pipeline.\n",
            "\n",
            "Best pipeline: RandomForestClassifier(CombineDFs(input_matrix, CombineDFs(input_matrix, input_matrix)))\n"
          ],
          "name": "stdout"
        },
        {
          "output_type": "error",
          "ename": "ValueError",
          "evalue": "ignored",
          "traceback": [
            "\u001b[0;31m---------------------------------------------------------------------------\u001b[0m",
            "\u001b[0;31mValueError\u001b[0m                                Traceback (most recent call last)",
            "\u001b[0;32m<ipython-input-24-2da0da1324f1>\u001b[0m in \u001b[0;36m<module>\u001b[0;34m()\u001b[0m\n\u001b[1;32m      1\u001b[0m \u001b[0mtpot\u001b[0m\u001b[0;34m.\u001b[0m\u001b[0mfit\u001b[0m\u001b[0;34m(\u001b[0m\u001b[0mX_train\u001b[0m\u001b[0;34m,\u001b[0m \u001b[0my_train\u001b[0m\u001b[0;34m)\u001b[0m\u001b[0;34m\u001b[0m\u001b[0;34m\u001b[0m\u001b[0m\n\u001b[0;32m----> 2\u001b[0;31m \u001b[0mprint\u001b[0m\u001b[0;34m(\u001b[0m\u001b[0mtpot\u001b[0m\u001b[0;34m.\u001b[0m\u001b[0mscore\u001b[0m\u001b[0;34m(\u001b[0m\u001b[0mX_test\u001b[0m\u001b[0;34m,\u001b[0m \u001b[0my_test\u001b[0m\u001b[0;34m)\u001b[0m\u001b[0;34m)\u001b[0m\u001b[0;34m\u001b[0m\u001b[0;34m\u001b[0m\u001b[0m\n\u001b[0m",
            "\u001b[0;32m/usr/local/lib/python3.6/dist-packages/tpot/base.py\u001b[0m in \u001b[0;36mscore\u001b[0;34m(self, testing_features, testing_target)\u001b[0m\n\u001b[1;32m    973\u001b[0m             \u001b[0mself\u001b[0m\u001b[0;34m.\u001b[0m\u001b[0mfitted_pipeline_\u001b[0m\u001b[0;34m,\u001b[0m\u001b[0;34m\u001b[0m\u001b[0;34m\u001b[0m\u001b[0m\n\u001b[1;32m    974\u001b[0m             \u001b[0mtesting_features\u001b[0m\u001b[0;34m.\u001b[0m\u001b[0mastype\u001b[0m\u001b[0;34m(\u001b[0m\u001b[0mnp\u001b[0m\u001b[0;34m.\u001b[0m\u001b[0mfloat64\u001b[0m\u001b[0;34m)\u001b[0m\u001b[0;34m,\u001b[0m\u001b[0;34m\u001b[0m\u001b[0;34m\u001b[0m\u001b[0m\n\u001b[0;32m--> 975\u001b[0;31m             \u001b[0mtesting_target\u001b[0m\u001b[0;34m.\u001b[0m\u001b[0mastype\u001b[0m\u001b[0;34m(\u001b[0m\u001b[0mnp\u001b[0m\u001b[0;34m.\u001b[0m\u001b[0mfloat64\u001b[0m\u001b[0;34m)\u001b[0m\u001b[0;34m\u001b[0m\u001b[0;34m\u001b[0m\u001b[0m\n\u001b[0m\u001b[1;32m    976\u001b[0m         )\n\u001b[1;32m    977\u001b[0m         \u001b[0;32mreturn\u001b[0m \u001b[0mscore\u001b[0m\u001b[0;34m\u001b[0m\u001b[0;34m\u001b[0m\u001b[0m\n",
            "\u001b[0;32m/usr/local/lib/python3.6/dist-packages/pandas/core/generic.py\u001b[0m in \u001b[0;36mastype\u001b[0;34m(self, dtype, copy, errors, **kwargs)\u001b[0m\n\u001b[1;32m   5689\u001b[0m             \u001b[0;31m# else, only a single dtype is given\u001b[0m\u001b[0;34m\u001b[0m\u001b[0;34m\u001b[0m\u001b[0;34m\u001b[0m\u001b[0m\n\u001b[1;32m   5690\u001b[0m             new_data = self._data.astype(dtype=dtype, copy=copy, errors=errors,\n\u001b[0;32m-> 5691\u001b[0;31m                                          **kwargs)\n\u001b[0m\u001b[1;32m   5692\u001b[0m             \u001b[0;32mreturn\u001b[0m \u001b[0mself\u001b[0m\u001b[0;34m.\u001b[0m\u001b[0m_constructor\u001b[0m\u001b[0;34m(\u001b[0m\u001b[0mnew_data\u001b[0m\u001b[0;34m)\u001b[0m\u001b[0;34m.\u001b[0m\u001b[0m__finalize__\u001b[0m\u001b[0;34m(\u001b[0m\u001b[0mself\u001b[0m\u001b[0;34m)\u001b[0m\u001b[0;34m\u001b[0m\u001b[0;34m\u001b[0m\u001b[0m\n\u001b[1;32m   5693\u001b[0m \u001b[0;34m\u001b[0m\u001b[0m\n",
            "\u001b[0;32m/usr/local/lib/python3.6/dist-packages/pandas/core/internals/managers.py\u001b[0m in \u001b[0;36mastype\u001b[0;34m(self, dtype, **kwargs)\u001b[0m\n\u001b[1;32m    529\u001b[0m \u001b[0;34m\u001b[0m\u001b[0m\n\u001b[1;32m    530\u001b[0m     \u001b[0;32mdef\u001b[0m \u001b[0mastype\u001b[0m\u001b[0;34m(\u001b[0m\u001b[0mself\u001b[0m\u001b[0;34m,\u001b[0m \u001b[0mdtype\u001b[0m\u001b[0;34m,\u001b[0m \u001b[0;34m**\u001b[0m\u001b[0mkwargs\u001b[0m\u001b[0;34m)\u001b[0m\u001b[0;34m:\u001b[0m\u001b[0;34m\u001b[0m\u001b[0;34m\u001b[0m\u001b[0m\n\u001b[0;32m--> 531\u001b[0;31m         \u001b[0;32mreturn\u001b[0m \u001b[0mself\u001b[0m\u001b[0;34m.\u001b[0m\u001b[0mapply\u001b[0m\u001b[0;34m(\u001b[0m\u001b[0;34m'astype'\u001b[0m\u001b[0;34m,\u001b[0m \u001b[0mdtype\u001b[0m\u001b[0;34m=\u001b[0m\u001b[0mdtype\u001b[0m\u001b[0;34m,\u001b[0m \u001b[0;34m**\u001b[0m\u001b[0mkwargs\u001b[0m\u001b[0;34m)\u001b[0m\u001b[0;34m\u001b[0m\u001b[0;34m\u001b[0m\u001b[0m\n\u001b[0m\u001b[1;32m    532\u001b[0m \u001b[0;34m\u001b[0m\u001b[0m\n\u001b[1;32m    533\u001b[0m     \u001b[0;32mdef\u001b[0m \u001b[0mconvert\u001b[0m\u001b[0;34m(\u001b[0m\u001b[0mself\u001b[0m\u001b[0;34m,\u001b[0m \u001b[0;34m**\u001b[0m\u001b[0mkwargs\u001b[0m\u001b[0;34m)\u001b[0m\u001b[0;34m:\u001b[0m\u001b[0;34m\u001b[0m\u001b[0;34m\u001b[0m\u001b[0m\n",
            "\u001b[0;32m/usr/local/lib/python3.6/dist-packages/pandas/core/internals/managers.py\u001b[0m in \u001b[0;36mapply\u001b[0;34m(self, f, axes, filter, do_integrity_check, consolidate, **kwargs)\u001b[0m\n\u001b[1;32m    393\u001b[0m                                             copy=align_copy)\n\u001b[1;32m    394\u001b[0m \u001b[0;34m\u001b[0m\u001b[0m\n\u001b[0;32m--> 395\u001b[0;31m             \u001b[0mapplied\u001b[0m \u001b[0;34m=\u001b[0m \u001b[0mgetattr\u001b[0m\u001b[0;34m(\u001b[0m\u001b[0mb\u001b[0m\u001b[0;34m,\u001b[0m \u001b[0mf\u001b[0m\u001b[0;34m)\u001b[0m\u001b[0;34m(\u001b[0m\u001b[0;34m**\u001b[0m\u001b[0mkwargs\u001b[0m\u001b[0;34m)\u001b[0m\u001b[0;34m\u001b[0m\u001b[0;34m\u001b[0m\u001b[0m\n\u001b[0m\u001b[1;32m    396\u001b[0m             \u001b[0mresult_blocks\u001b[0m \u001b[0;34m=\u001b[0m \u001b[0m_extend_blocks\u001b[0m\u001b[0;34m(\u001b[0m\u001b[0mapplied\u001b[0m\u001b[0;34m,\u001b[0m \u001b[0mresult_blocks\u001b[0m\u001b[0;34m)\u001b[0m\u001b[0;34m\u001b[0m\u001b[0;34m\u001b[0m\u001b[0m\n\u001b[1;32m    397\u001b[0m \u001b[0;34m\u001b[0m\u001b[0m\n",
            "\u001b[0;32m/usr/local/lib/python3.6/dist-packages/pandas/core/internals/blocks.py\u001b[0m in \u001b[0;36mastype\u001b[0;34m(self, dtype, copy, errors, values, **kwargs)\u001b[0m\n\u001b[1;32m    532\u001b[0m     \u001b[0;32mdef\u001b[0m \u001b[0mastype\u001b[0m\u001b[0;34m(\u001b[0m\u001b[0mself\u001b[0m\u001b[0;34m,\u001b[0m \u001b[0mdtype\u001b[0m\u001b[0;34m,\u001b[0m \u001b[0mcopy\u001b[0m\u001b[0;34m=\u001b[0m\u001b[0;32mFalse\u001b[0m\u001b[0;34m,\u001b[0m \u001b[0merrors\u001b[0m\u001b[0;34m=\u001b[0m\u001b[0;34m'raise'\u001b[0m\u001b[0;34m,\u001b[0m \u001b[0mvalues\u001b[0m\u001b[0;34m=\u001b[0m\u001b[0;32mNone\u001b[0m\u001b[0;34m,\u001b[0m \u001b[0;34m**\u001b[0m\u001b[0mkwargs\u001b[0m\u001b[0;34m)\u001b[0m\u001b[0;34m:\u001b[0m\u001b[0;34m\u001b[0m\u001b[0;34m\u001b[0m\u001b[0m\n\u001b[1;32m    533\u001b[0m         return self._astype(dtype, copy=copy, errors=errors, values=values,\n\u001b[0;32m--> 534\u001b[0;31m                             **kwargs)\n\u001b[0m\u001b[1;32m    535\u001b[0m \u001b[0;34m\u001b[0m\u001b[0m\n\u001b[1;32m    536\u001b[0m     def _astype(self, dtype, copy=False, errors='raise', values=None,\n",
            "\u001b[0;32m/usr/local/lib/python3.6/dist-packages/pandas/core/internals/blocks.py\u001b[0m in \u001b[0;36m_astype\u001b[0;34m(self, dtype, copy, errors, values, **kwargs)\u001b[0m\n\u001b[1;32m    631\u001b[0m \u001b[0;34m\u001b[0m\u001b[0m\n\u001b[1;32m    632\u001b[0m                     \u001b[0;31m# _astype_nansafe works fine with 1-d only\u001b[0m\u001b[0;34m\u001b[0m\u001b[0;34m\u001b[0m\u001b[0;34m\u001b[0m\u001b[0m\n\u001b[0;32m--> 633\u001b[0;31m                     \u001b[0mvalues\u001b[0m \u001b[0;34m=\u001b[0m \u001b[0mastype_nansafe\u001b[0m\u001b[0;34m(\u001b[0m\u001b[0mvalues\u001b[0m\u001b[0;34m.\u001b[0m\u001b[0mravel\u001b[0m\u001b[0;34m(\u001b[0m\u001b[0;34m)\u001b[0m\u001b[0;34m,\u001b[0m \u001b[0mdtype\u001b[0m\u001b[0;34m,\u001b[0m \u001b[0mcopy\u001b[0m\u001b[0;34m=\u001b[0m\u001b[0;32mTrue\u001b[0m\u001b[0;34m)\u001b[0m\u001b[0;34m\u001b[0m\u001b[0;34m\u001b[0m\u001b[0m\n\u001b[0m\u001b[1;32m    634\u001b[0m \u001b[0;34m\u001b[0m\u001b[0m\n\u001b[1;32m    635\u001b[0m                 \u001b[0;31m# TODO(extension)\u001b[0m\u001b[0;34m\u001b[0m\u001b[0;34m\u001b[0m\u001b[0;34m\u001b[0m\u001b[0m\n",
            "\u001b[0;32m/usr/local/lib/python3.6/dist-packages/pandas/core/dtypes/cast.py\u001b[0m in \u001b[0;36mastype_nansafe\u001b[0;34m(arr, dtype, copy, skipna)\u001b[0m\n\u001b[1;32m    700\u001b[0m     \u001b[0;32mif\u001b[0m \u001b[0mcopy\u001b[0m \u001b[0;32mor\u001b[0m \u001b[0mis_object_dtype\u001b[0m\u001b[0;34m(\u001b[0m\u001b[0marr\u001b[0m\u001b[0;34m)\u001b[0m \u001b[0;32mor\u001b[0m \u001b[0mis_object_dtype\u001b[0m\u001b[0;34m(\u001b[0m\u001b[0mdtype\u001b[0m\u001b[0;34m)\u001b[0m\u001b[0;34m:\u001b[0m\u001b[0;34m\u001b[0m\u001b[0;34m\u001b[0m\u001b[0m\n\u001b[1;32m    701\u001b[0m         \u001b[0;31m# Explicit copy, or required since NumPy can't view from / to object.\u001b[0m\u001b[0;34m\u001b[0m\u001b[0;34m\u001b[0m\u001b[0;34m\u001b[0m\u001b[0m\n\u001b[0;32m--> 702\u001b[0;31m         \u001b[0;32mreturn\u001b[0m \u001b[0marr\u001b[0m\u001b[0;34m.\u001b[0m\u001b[0mastype\u001b[0m\u001b[0;34m(\u001b[0m\u001b[0mdtype\u001b[0m\u001b[0;34m,\u001b[0m \u001b[0mcopy\u001b[0m\u001b[0;34m=\u001b[0m\u001b[0;32mTrue\u001b[0m\u001b[0;34m)\u001b[0m\u001b[0;34m\u001b[0m\u001b[0;34m\u001b[0m\u001b[0m\n\u001b[0m\u001b[1;32m    703\u001b[0m \u001b[0;34m\u001b[0m\u001b[0m\n\u001b[1;32m    704\u001b[0m     \u001b[0;32mreturn\u001b[0m \u001b[0marr\u001b[0m\u001b[0;34m.\u001b[0m\u001b[0mview\u001b[0m\u001b[0;34m(\u001b[0m\u001b[0mdtype\u001b[0m\u001b[0;34m)\u001b[0m\u001b[0;34m\u001b[0m\u001b[0;34m\u001b[0m\u001b[0m\n",
            "\u001b[0;31mValueError\u001b[0m: could not convert string to float: 'No'"
          ]
        }
      ]
    },
    {
      "cell_type": "code",
      "metadata": {
        "id": "nFtkJAzGLegE",
        "colab_type": "code",
        "colab": {}
      },
      "source": [
        "# Get the best model\n",
        "extracted_best_model = tpot.fitted_pipeline_.steps[-1][1]"
      ],
      "execution_count": 0,
      "outputs": []
    },
    {
      "cell_type": "code",
      "metadata": {
        "id": "q1Mo4ikbHUwj",
        "colab_type": "code",
        "colab": {
          "base_uri": "https://localhost:8080/",
          "height": 221
        },
        "outputId": "aeeedf9e-3037-4c37-e7f9-1a23524eee5a"
      },
      "source": [
        "# Access it's features\n",
        "extracted_best_model.feature_importances_"
      ],
      "execution_count": 26,
      "outputs": [
        {
          "output_type": "execute_result",
          "data": {
            "text/plain": [
              "array([0.00827811, 0.0078505 , 0.00717343, 0.00655425, 0.04940996,\n",
              "       0.0010845 , 0.0087248 , 0.01575145, 0.0145908 , 0.00597195,\n",
              "       0.00906816, 0.00619363, 0.00449179, 0.01049271, 0.0059612 ,\n",
              "       0.00861053, 0.01362971, 0.05483023, 0.07752095, 0.01064179,\n",
              "       0.00582866, 0.00653347, 0.00494993, 0.08081045, 0.00109962,\n",
              "       0.00632866, 0.00901181, 0.00902884, 0.00723537, 0.00748685,\n",
              "       0.00814173, 0.01620939, 0.00572026, 0.02208106, 0.00721009,\n",
              "       0.0161802 , 0.05808977, 0.0617939 , 0.00667837, 0.00666051,\n",
              "       0.00727599, 0.00655105, 0.05117424, 0.0007127 , 0.00801503,\n",
              "       0.03094893, 0.01153245, 0.01179733, 0.0063078 , 0.00789619,\n",
              "       0.01407664, 0.00762575, 0.02036531, 0.00771773, 0.01478452,\n",
              "       0.05299725, 0.0663117 ])"
            ]
          },
          "metadata": {
            "tags": []
          },
          "execution_count": 26
        }
      ]
    },
    {
      "cell_type": "markdown",
      "metadata": {
        "id": "irE-WqgmYAPA",
        "colab_type": "text"
      },
      "source": [
        "# IMPORTANT\n",
        "\n",
        "*In the above example, the best model based on the pipeline was RandomForestClassifier . This model indeed has the attribute feature_importances_. In the case where the best model does not have an attribute feature_importances_, the exact same code will not work. We have to take care of such cases, ex- if our best estimator was LogisticRegeression or NaiveBayes"
      ]
    },
    {
      "cell_type": "code",
      "metadata": {
        "id": "MMzRyo08XUXB",
        "colab_type": "code",
        "colab": {
          "base_uri": "https://localhost:8080/",
          "height": 729
        },
        "outputId": "e0bd6766-da4c-43a7-c917-00554a69a6ec"
      },
      "source": [
        "import matplotlib.pyplot as plt\n",
        "import seaborn as sns\n",
        "import warnings\n",
        "warnings.simplefilter(action='ignore', category=FutureWarning)\n",
        "\n",
        "# sorted(zip(clf.feature_importances_, X.columns), reverse=True)\n",
        "feature_imp = pd.DataFrame(sorted(zip(extracted_best_model.feature_importances_,X.columns)), columns=['Value','Feature'])\n",
        "\n",
        "plt.figure(figsize=(10, 10))\n",
        "sns.barplot(x=\"Value\", y=\"Feature\", data=feature_imp.sort_values(by=\"Value\", ascending=False))\n",
        "plt.title('Explain Feature importance with RF Classifier')\n",
        "plt.tight_layout()\n",
        "plt.show()\n",
        "\n"
      ],
      "execution_count": 32,
      "outputs": [
        {
          "output_type": "display_data",
          "data": {
            "image/png": "[encoded data removed]",
            "text/plain": [
              "<Figure size 720x720 with 1 Axes>"
            ]
          },
          "metadata": {
            "tags": []
          }
        }
      ]
    },
    {
      "cell_type": "code",
      "metadata": {
        "id": "iTATdV0RYwje",
        "colab_type": "code",
        "colab": {}
      },
      "source": [
        ""
      ],
      "execution_count": 0,
      "outputs": []
    }
  ]
}